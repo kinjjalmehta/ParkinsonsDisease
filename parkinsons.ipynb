{
 "cells": [
  {
   "cell_type": "code",
   "execution_count": 26,
   "source": [
    "import os, sys                       # OS stands for Operating System and provides ways for python to interact with files or directories\r\n",
    "from collections import Counter  # Collections is a package for handling data\r\n",
    "from pprint import pprint\r\n",
    "\r\n",
    "import pandas as pd              # Pandas is a data analysis library which we'll primarily use to handle our dataset\r\n",
    "import numpy as np               # Numpy is a package for scientific computing. We'll use it for some of it's math functions\r\n",
    "\r\n",
    "import matplotlib                # Matplotlib is the plotting package that we'll use throughout the lab\r\n",
    "import matplotlib.pyplot as plt\r\n",
    "import seaborn as sns            # Seaborn is a Python data visualization library based on matplotlib\r\n",
    "\r\n",
    "from sklearn.preprocessing import MinMaxScaler # Scikit-learn is a machine learning package, providing the backbone for the work we'll perform\r\n",
    "from sklearn.model_selection import train_test_split\r\n",
    "from sklearn.metrics import accuracy_score \r\n",
    "from sklearn import metrics\r\n",
    "from sklearn.model_selection import cross_validate, GridSearchCV, ParameterGrid\r\n",
    "from sklearn.model_selection import KFold, RepeatedKFold\r\n",
    "\r\n",
    "from xgboost import XGBClassifier # Extreme gradient boosting based on decision trees\r\n",
    "\r\n",
    "seed = 12345"
   ],
   "outputs": [],
   "metadata": {}
  },
  {
   "cell_type": "code",
   "execution_count": 16,
   "source": [
    "# load the data\r\n",
    "parkinsons_original = pd.read_csv('parkinsonsdata.csv')\r\n",
    "parkinsons_original.head()"
   ],
   "outputs": [
    {
     "output_type": "execute_result",
     "data": {
      "text/plain": [
       "             name  MDVP:Fo(Hz)  MDVP:Fhi(Hz)  MDVP:Flo(Hz)  MDVP:Jitter(%)  \\\n",
       "0  phon_R01_S01_1      119.992       157.302        74.997         0.00784   \n",
       "1  phon_R01_S01_2      122.400       148.650       113.819         0.00968   \n",
       "2  phon_R01_S01_3      116.682       131.111       111.555         0.01050   \n",
       "3  phon_R01_S01_4      116.676       137.871       111.366         0.00997   \n",
       "4  phon_R01_S01_5      116.014       141.781       110.655         0.01284   \n",
       "\n",
       "   MDVP:Jitter(Abs)  MDVP:RAP  MDVP:PPQ  Jitter:DDP  MDVP:Shimmer  ...  \\\n",
       "0           0.00007   0.00370   0.00554     0.01109       0.04374  ...   \n",
       "1           0.00008   0.00465   0.00696     0.01394       0.06134  ...   \n",
       "2           0.00009   0.00544   0.00781     0.01633       0.05233  ...   \n",
       "3           0.00009   0.00502   0.00698     0.01505       0.05492  ...   \n",
       "4           0.00011   0.00655   0.00908     0.01966       0.06425  ...   \n",
       "\n",
       "   Shimmer:DDA      NHR     HNR  status      RPDE       DFA   spread1  \\\n",
       "0      0.06545  0.02211  21.033       1  0.414783  0.815285 -4.813031   \n",
       "1      0.09403  0.01929  19.085       1  0.458359  0.819521 -4.075192   \n",
       "2      0.08270  0.01309  20.651       1  0.429895  0.825288 -4.443179   \n",
       "3      0.08771  0.01353  20.644       1  0.434969  0.819235 -4.117501   \n",
       "4      0.10470  0.01767  19.649       1  0.417356  0.823484 -3.747787   \n",
       "\n",
       "    spread2        D2       PPE  \n",
       "0  0.266482  2.301442  0.284654  \n",
       "1  0.335590  2.486855  0.368674  \n",
       "2  0.311173  2.342259  0.332634  \n",
       "3  0.334147  2.405554  0.368975  \n",
       "4  0.234513  2.332180  0.410335  \n",
       "\n",
       "[5 rows x 24 columns]"
      ],
      "text/html": [
       "<div>\n",
       "<style scoped>\n",
       "    .dataframe tbody tr th:only-of-type {\n",
       "        vertical-align: middle;\n",
       "    }\n",
       "\n",
       "    .dataframe tbody tr th {\n",
       "        vertical-align: top;\n",
       "    }\n",
       "\n",
       "    .dataframe thead th {\n",
       "        text-align: right;\n",
       "    }\n",
       "</style>\n",
       "<table border=\"1\" class=\"dataframe\">\n",
       "  <thead>\n",
       "    <tr style=\"text-align: right;\">\n",
       "      <th></th>\n",
       "      <th>name</th>\n",
       "      <th>MDVP:Fo(Hz)</th>\n",
       "      <th>MDVP:Fhi(Hz)</th>\n",
       "      <th>MDVP:Flo(Hz)</th>\n",
       "      <th>MDVP:Jitter(%)</th>\n",
       "      <th>MDVP:Jitter(Abs)</th>\n",
       "      <th>MDVP:RAP</th>\n",
       "      <th>MDVP:PPQ</th>\n",
       "      <th>Jitter:DDP</th>\n",
       "      <th>MDVP:Shimmer</th>\n",
       "      <th>...</th>\n",
       "      <th>Shimmer:DDA</th>\n",
       "      <th>NHR</th>\n",
       "      <th>HNR</th>\n",
       "      <th>status</th>\n",
       "      <th>RPDE</th>\n",
       "      <th>DFA</th>\n",
       "      <th>spread1</th>\n",
       "      <th>spread2</th>\n",
       "      <th>D2</th>\n",
       "      <th>PPE</th>\n",
       "    </tr>\n",
       "  </thead>\n",
       "  <tbody>\n",
       "    <tr>\n",
       "      <th>0</th>\n",
       "      <td>phon_R01_S01_1</td>\n",
       "      <td>119.992</td>\n",
       "      <td>157.302</td>\n",
       "      <td>74.997</td>\n",
       "      <td>0.00784</td>\n",
       "      <td>0.00007</td>\n",
       "      <td>0.00370</td>\n",
       "      <td>0.00554</td>\n",
       "      <td>0.01109</td>\n",
       "      <td>0.04374</td>\n",
       "      <td>...</td>\n",
       "      <td>0.06545</td>\n",
       "      <td>0.02211</td>\n",
       "      <td>21.033</td>\n",
       "      <td>1</td>\n",
       "      <td>0.414783</td>\n",
       "      <td>0.815285</td>\n",
       "      <td>-4.813031</td>\n",
       "      <td>0.266482</td>\n",
       "      <td>2.301442</td>\n",
       "      <td>0.284654</td>\n",
       "    </tr>\n",
       "    <tr>\n",
       "      <th>1</th>\n",
       "      <td>phon_R01_S01_2</td>\n",
       "      <td>122.400</td>\n",
       "      <td>148.650</td>\n",
       "      <td>113.819</td>\n",
       "      <td>0.00968</td>\n",
       "      <td>0.00008</td>\n",
       "      <td>0.00465</td>\n",
       "      <td>0.00696</td>\n",
       "      <td>0.01394</td>\n",
       "      <td>0.06134</td>\n",
       "      <td>...</td>\n",
       "      <td>0.09403</td>\n",
       "      <td>0.01929</td>\n",
       "      <td>19.085</td>\n",
       "      <td>1</td>\n",
       "      <td>0.458359</td>\n",
       "      <td>0.819521</td>\n",
       "      <td>-4.075192</td>\n",
       "      <td>0.335590</td>\n",
       "      <td>2.486855</td>\n",
       "      <td>0.368674</td>\n",
       "    </tr>\n",
       "    <tr>\n",
       "      <th>2</th>\n",
       "      <td>phon_R01_S01_3</td>\n",
       "      <td>116.682</td>\n",
       "      <td>131.111</td>\n",
       "      <td>111.555</td>\n",
       "      <td>0.01050</td>\n",
       "      <td>0.00009</td>\n",
       "      <td>0.00544</td>\n",
       "      <td>0.00781</td>\n",
       "      <td>0.01633</td>\n",
       "      <td>0.05233</td>\n",
       "      <td>...</td>\n",
       "      <td>0.08270</td>\n",
       "      <td>0.01309</td>\n",
       "      <td>20.651</td>\n",
       "      <td>1</td>\n",
       "      <td>0.429895</td>\n",
       "      <td>0.825288</td>\n",
       "      <td>-4.443179</td>\n",
       "      <td>0.311173</td>\n",
       "      <td>2.342259</td>\n",
       "      <td>0.332634</td>\n",
       "    </tr>\n",
       "    <tr>\n",
       "      <th>3</th>\n",
       "      <td>phon_R01_S01_4</td>\n",
       "      <td>116.676</td>\n",
       "      <td>137.871</td>\n",
       "      <td>111.366</td>\n",
       "      <td>0.00997</td>\n",
       "      <td>0.00009</td>\n",
       "      <td>0.00502</td>\n",
       "      <td>0.00698</td>\n",
       "      <td>0.01505</td>\n",
       "      <td>0.05492</td>\n",
       "      <td>...</td>\n",
       "      <td>0.08771</td>\n",
       "      <td>0.01353</td>\n",
       "      <td>20.644</td>\n",
       "      <td>1</td>\n",
       "      <td>0.434969</td>\n",
       "      <td>0.819235</td>\n",
       "      <td>-4.117501</td>\n",
       "      <td>0.334147</td>\n",
       "      <td>2.405554</td>\n",
       "      <td>0.368975</td>\n",
       "    </tr>\n",
       "    <tr>\n",
       "      <th>4</th>\n",
       "      <td>phon_R01_S01_5</td>\n",
       "      <td>116.014</td>\n",
       "      <td>141.781</td>\n",
       "      <td>110.655</td>\n",
       "      <td>0.01284</td>\n",
       "      <td>0.00011</td>\n",
       "      <td>0.00655</td>\n",
       "      <td>0.00908</td>\n",
       "      <td>0.01966</td>\n",
       "      <td>0.06425</td>\n",
       "      <td>...</td>\n",
       "      <td>0.10470</td>\n",
       "      <td>0.01767</td>\n",
       "      <td>19.649</td>\n",
       "      <td>1</td>\n",
       "      <td>0.417356</td>\n",
       "      <td>0.823484</td>\n",
       "      <td>-3.747787</td>\n",
       "      <td>0.234513</td>\n",
       "      <td>2.332180</td>\n",
       "      <td>0.410335</td>\n",
       "    </tr>\n",
       "  </tbody>\n",
       "</table>\n",
       "<p>5 rows × 24 columns</p>\n",
       "</div>"
      ]
     },
     "metadata": {},
     "execution_count": 16
    }
   ],
   "metadata": {}
  },
  {
   "cell_type": "markdown",
   "source": [
    "Feature Engineering\r\n",
    "\r\n",
    "Remove constant columns, get the features and labels,and normalize them."
   ],
   "metadata": {}
  },
  {
   "cell_type": "code",
   "execution_count": 17,
   "source": [
    "# remove column name\r\n",
    "parkinsons_df = parkinsons_original.drop(\"name\", axis = 1)\r\n",
    "\r\n",
    "# get the features and lables by splitting into two dataframes\r\n",
    "features = parkinsons_df.loc[:,parkinsons_df.columns!='status'].values[:,1:]\r\n",
    "labels = parkinsons_df.loc[:,'status'].values\r\n",
    "\r\n",
    "# remove constant columns\r\n",
    "parkinsons_df_noconstant = parkinsons_df.loc[:, (parkinsons_df != parkinsons_df.iloc[0]).any()]\r\n",
    "\r\n",
    "# remove highly correlated features\r\n",
    "parkinsons_nocorr_df = parkinsons_df_noconstant.corr(method = \"pearson\").abs()\r\n",
    "\r\n",
    "# filter the features with correlation coefficients above 0.95\r\n",
    "upper = parkinsons_nocorr_df.where(np.triu(np.ones(parkinsons_nocorr_df.shape), k=1).astype(bool))\r\n",
    "to_drop = [column for column in upper.columns if any(upper[column] > 0.95)]\r\n",
    "parkinsons_df_lowcorr = parkinsons_df_noconstant.drop(columns=to_drop)\r\n",
    "# recalculate the correlation matrix so we can compare\r\n",
    "parkinsons_corr_df_update = parkinsons_df_lowcorr.corr(method=\"pearson\").abs()\r\n",
    "\r\n",
    "# count of label 0 and 1 -> (147 label 1, 48 label 0)\r\n",
    "print(labels[labels==1].shape[0], labels[labels==0].shape[0])\r\n",
    "# number of columns\r\n",
    "len(parkinsons_df_noconstant.columns)"
   ],
   "outputs": [
    {
     "output_type": "stream",
     "name": "stdout",
     "text": [
      "147 48\n"
     ]
    },
    {
     "output_type": "execute_result",
     "data": {
      "text/plain": [
       "23"
      ]
     },
     "metadata": {},
     "execution_count": 17
    }
   ],
   "metadata": {}
  },
  {
   "cell_type": "code",
   "execution_count": 18,
   "source": [
    "# normalize the features\r\n",
    "# initialise MinMaxScaler with scaling range of -1 to 1.\r\n",
    "scale = MinMaxScaler((-1,1))\r\n",
    "x = scale.fit_transform(features)\r\n",
    "y = labels"
   ],
   "outputs": [],
   "metadata": {}
  },
  {
   "cell_type": "markdown",
   "source": [
    "Set up for Model Evaluation \r\n",
    "\r\n",
    "X_train: training set input data\r\n",
    "X_test: test set input data\r\n",
    "y_train: training set output data\r\n",
    "y_test: test set output data"
   ],
   "metadata": {}
  },
  {
   "cell_type": "code",
   "execution_count": 19,
   "source": [
    "# generate train/test split by keeping 20% of data as test set\r\n",
    "x_train, x_test, y_train, y_test = train_test_split(x, y, test_size = 0.2, random_state = 7)"
   ],
   "outputs": [],
   "metadata": {}
  },
  {
   "cell_type": "code",
   "execution_count": 20,
   "source": [
    "# evaluate train/test split using histogram\r\n",
    "fig, (ax1, ax2) = plt.subplots(2, figsize=(10,5), sharex = True, gridspec_kw={'hspace': 0})\r\n",
    "fig.set_tight_layout(False)\r\n",
    "myarray = parkinsons_original[\"status\"]\r\n",
    "\r\n",
    "bins = np.true_divide(range(5),2)\r\n",
    "\r\n",
    "l1 = sns.distplot(y_train.astype(\"float\"), hist = True, norm_hist = True, kde = False, bins = bins, hist_kws={\"edgecolor\": \"white\"}, label = 'training set', ax = ax1)\r\n",
    "l2 = sns.distplot(y_test.astype(\"float\"), hist = True, norm_hist = True, kde = False, bins = bins, hist_kws={\"edgecolor\": \"white\", \"color\": \"orange\"}, label = 'test set', ax = ax2)\r\n",
    "l3 = sns.distplot(myarray, hist = True, norm_hist = True, kde = False, bins = bins, hist_kws={\"histtype\": \"step\",\"linewidth\": 3, \"alpha\": 1, \"color\": \"grey\"}, ax = ax1)\r\n",
    "l4 = sns.distplot(myarray, hist = True, norm_hist = True, kde = False, bins = bins, hist_kws={\"histtype\": \"step\",\"linewidth\": 3, \"alpha\": 1, \"color\": \"grey\"}, label = 'full dataset', ax = ax2)\r\n",
    "\r\n",
    "\r\n",
    "ax1.set_xticks(range(2))\r\n",
    "ax2.set_xticks(range(2))\r\n",
    "ax2.xaxis.label.set_visible(False)\r\n",
    "handles, labels = [(a + b) for a, b in zip(ax1.get_legend_handles_labels(), ax2.get_legend_handles_labels())]\r\n",
    "fig.suptitle('Comparing histograms of the train/test split')\r\n",
    "fig.add_subplot(111, frame_on=False)\r\n",
    "plt.tick_params(labelcolor=\"none\", bottom=False, left=False)\r\n",
    "plt.legend(handles, labels, loc = 'center left', bbox_to_anchor=(1, 0.5),prop={'size': 16})\r\n",
    "plt.xlabel('Status (0 is a healthy patient, 1 is a Parkinsons patient)')\r\n",
    "_ = plt.ylabel('Density')"
   ],
   "outputs": [
    {
     "output_type": "stream",
     "name": "stderr",
     "text": [
      "C:\\Users\\kinja\\Python\\Python39\\lib\\site-packages\\seaborn\\distributions.py:2557: FutureWarning: `distplot` is a deprecated function and will be removed in a future version. Please adapt your code to use either `displot` (a figure-level function with similar flexibility) or `histplot` (an axes-level function for histograms).\n",
      "  warnings.warn(msg, FutureWarning)\n",
      "C:\\Users\\kinja\\Python\\Python39\\lib\\site-packages\\seaborn\\distributions.py:2557: FutureWarning: `distplot` is a deprecated function and will be removed in a future version. Please adapt your code to use either `displot` (a figure-level function with similar flexibility) or `histplot` (an axes-level function for histograms).\n",
      "  warnings.warn(msg, FutureWarning)\n"
     ]
    },
    {
     "output_type": "display_data",
     "data": {
      "text/plain": [
       "<Figure size 720x360 with 3 Axes>"
      ],
      "image/png": "[encoded data removed]"
     },
     "metadata": {
      "needs_background": "light"
     }
    }
   ],
   "metadata": {}
  },
  {
   "cell_type": "markdown",
   "source": [
    "Fitting and evaluating a default model"
   ],
   "metadata": {}
  },
  {
   "cell_type": "code",
   "execution_count": 21,
   "source": [
    "# initialise the XGBCLassifier and train the model on training data\r\n",
    "model = XGBClassifier()\r\n",
    "model.fit(x_train, y_train)\r\n",
    "\r\n",
    "print('Model Training Complete')"
   ],
   "outputs": [
    {
     "output_type": "stream",
     "name": "stdout",
     "text": [
      "[02:51:49] WARNING: C:/Users/Administrator/workspace/xgboost-win64_release_1.4.0/src/learner.cc:1095: Starting in XGBoost 1.3.0, the default evaluation metric used with the objective 'binary:logistic' was changed from 'error' to 'logloss'. Explicitly set eval_metric if you'd like to restore the old behavior.\n",
      "Model Training Complete\n"
     ]
    },
    {
     "output_type": "stream",
     "name": "stderr",
     "text": [
      "C:\\Users\\kinja\\Python\\Python39\\lib\\site-packages\\xgboost\\sklearn.py:1146: UserWarning: The use of label encoder in XGBClassifier is deprecated and will be removed in a future release. To remove this warning, do the following: 1) Pass option use_label_encoder=False when constructing XGBClassifier object; and 2) Encode your labels (y) as integers starting with 0, i.e. 0, 1, 2, ..., [num_class - 1].\n",
      "  warnings.warn(label_encoder_deprecation_msg, UserWarning)\n"
     ]
    }
   ],
   "metadata": {}
  },
  {
   "cell_type": "code",
   "execution_count": 22,
   "source": [
    "# generate predictions for training and testing data\r\n",
    "train_predict = model.predict(x_train)  # training data\r\n",
    "test_predict = model.predict(x_test)    # testing data\r\n",
    "\r\n",
    "# parity_plots_side_by_side(y_train,train_predict,y_test,test_predict,title_left=\"Training Data Parity Plot\",title_right=\"Test Data Parity Plot\") # build both plots\r\n",
    "# parity_stats_side_by_side(y_train,train_predict,y_test,test_predict,\"Training Data\",\"Test Data\")  # print error metrics for training data"
   ],
   "outputs": [],
   "metadata": {}
  },
  {
   "cell_type": "code",
   "execution_count": 23,
   "source": [
    "# calculate the accuracy of the model \r\n",
    "print(accuracy_score(y_test, test_predict) *100)"
   ],
   "outputs": [
    {
     "output_type": "stream",
     "name": "stdout",
     "text": [
      "92.3076923076923\n"
     ]
    }
   ],
   "metadata": {}
  },
  {
   "cell_type": "markdown",
   "source": [
    "Generate ROC curve and AUC"
   ],
   "metadata": {}
  },
  {
   "cell_type": "code",
   "execution_count": 24,
   "source": [
    "# generate a no skill prediction (majority class)\r\n",
    "random_probs = [0 for _ in range(len(y_test))]\r\n",
    "# predict probabilities\r\n",
    "model_probs = model.predict_proba(x_test)\r\n",
    "# keep probabilities for the positive outcome only\r\n",
    "model_probs = model_probs[:, 1]\r\n",
    "# calculate scores\r\n",
    "random_auc = metrics.roc_auc_score(y_test, random_probs)\r\n",
    "model_auc = metrics.roc_auc_score(y_test, model_probs)\r\n",
    "# summarize scores\r\n",
    "print('Random: ROC AUC=%.3f' % (random_auc))\r\n",
    "print('Model: ROC AUC=%.3f' % (model_auc))\r\n",
    "# calculate roc curves\r\n",
    "random_fpr, random_tpr, _ = metrics.roc_curve(y_test, random_probs)\r\n",
    "model_fpr, model_tpr, _ = metrics.roc_curve(y_test, model_probs)\r\n",
    "# plot the roc curve for the model\r\n",
    "plt.plot(random_fpr, random_tpr, linestyle='--', label='Random')\r\n",
    "plt.plot(model_fpr, model_tpr, marker='.', label='Model')\r\n",
    "# axis labels\r\n",
    "plt.xlabel('False Positive Rate')\r\n",
    "plt.ylabel('True Positive Rate')\r\n",
    "# show the legend\r\n",
    "plt.legend()\r\n",
    "# show the plot\r\n",
    "plt.show()"
   ],
   "outputs": [
    {
     "output_type": "stream",
     "name": "stdout",
     "text": [
      "Random: ROC AUC=0.500\n",
      "Model: ROC AUC=0.987\n"
     ]
    },
    {
     "output_type": "display_data",
     "data": {
      "text/plain": [
       "<Figure size 432x288 with 1 Axes>"
      ],
      "image/png": "[encoded data removed]"
     },
     "metadata": {
      "needs_background": "light"
     }
    }
   ],
   "metadata": {}
  },
  {
   "cell_type": "markdown",
   "source": [
    "Improving the Model by Optimizing Hyperparameters"
   ],
   "metadata": {}
  },
  {
   "cell_type": "code",
   "execution_count": 25,
   "source": [
    "# get the default parameters used\r\n",
    "print('Default model uses the following hyperparameters: \\n')\r\n",
    "pprint(model.get_params())"
   ],
   "outputs": [
    {
     "output_type": "stream",
     "name": "stdout",
     "text": [
      "Default model uses the following hyperparameters: \n",
      "\n",
      "{'base_score': 0.5,\n",
      " 'booster': 'gbtree',\n",
      " 'colsample_bylevel': 1,\n",
      " 'colsample_bynode': 1,\n",
      " 'colsample_bytree': 1,\n",
      " 'gamma': 0,\n",
      " 'gpu_id': -1,\n",
      " 'importance_type': 'gain',\n",
      " 'interaction_constraints': '',\n",
      " 'learning_rate': 0.300000012,\n",
      " 'max_delta_step': 0,\n",
      " 'max_depth': 6,\n",
      " 'min_child_weight': 1,\n",
      " 'missing': nan,\n",
      " 'monotone_constraints': '()',\n",
      " 'n_estimators': 100,\n",
      " 'n_jobs': 8,\n",
      " 'num_parallel_tree': 1,\n",
      " 'objective': 'binary:logistic',\n",
      " 'random_state': 0,\n",
      " 'reg_alpha': 0,\n",
      " 'reg_lambda': 1,\n",
      " 'scale_pos_weight': 1,\n",
      " 'subsample': 1,\n",
      " 'tree_method': 'exact',\n",
      " 'use_label_encoder': True,\n",
      " 'validate_parameters': 1,\n",
      " 'verbosity': None}\n"
     ]
    }
   ],
   "metadata": {}
  },
  {
   "cell_type": "code",
   "execution_count": null,
   "source": [
    "# set up hyperparamater grid\r\n",
    "    # a dictionary of hyperparametere candidates that we want the optimization strategy to consider\r\n",
    "#number_of_trees \r\n",
    " #opt_dict = {'n_estimators': number_of_trees, }"
   ],
   "outputs": [],
   "metadata": {}
  },
  {
   "cell_type": "markdown",
   "source": [
    "Set up a Cross Validation Scheme"
   ],
   "metadata": {}
  },
  {
   "cell_type": "code",
   "execution_count": 27,
   "source": [
    "# in total = 25 splits generated in the training data\r\n",
    "kfold = RepeatedKFold(n_splits = 5, random_state = seed, n_repeats= 5)"
   ],
   "outputs": [],
   "metadata": {}
  },
  {
   "cell_type": "markdown",
   "source": [
    "Set up a Grid Search"
   ],
   "metadata": {}
  },
  {
   "cell_type": "code",
   "execution_count": null,
   "source": [],
   "outputs": [],
   "metadata": {}
  }
 ],
 "metadata": {
  "orig_nbformat": 4,
  "language_info": {
   "name": "python",
   "version": "3.9.5",
   "mimetype": "text/x-python",
   "codemirror_mode": {
    "name": "ipython",
    "version": 3
   },
   "pygments_lexer": "ipython3",
   "nbconvert_exporter": "python",
   "file_extension": ".py"
  },
  "kernelspec": {
   "name": "python3",
   "display_name": "Python 3.9.5 64-bit"
  },
  "interpreter": {
   "hash": "54258b56b8f43a5ffaf24973c9f2436f7016f0c9ac4964cc949ba7b658616188"
  }
 },
 "nbformat": 4,
 "nbformat_minor": 2
}